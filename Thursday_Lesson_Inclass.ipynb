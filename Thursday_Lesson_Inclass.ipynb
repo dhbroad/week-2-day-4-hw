{
 "cells": [
  {
   "cell_type": "markdown",
   "metadata": {},
   "source": [
    "# Object-Oriented-Programming (OOP)"
   ]
  },
  {
   "cell_type": "markdown",
   "metadata": {},
   "source": [
    "## Tasks Today:\n",
    "\n",
    "   \n",
    "\n",
    "1) <b>Creating a Class (Initializing/Declaring)</b> <br>\n",
    "2) <b>Using a Class (Instantiating)</b> <br>\n",
    " &nbsp;&nbsp;&nbsp;&nbsp; a) Creating One Instance <br>\n",
    " &nbsp;&nbsp;&nbsp;&nbsp; b) Creating Multiple Instances <br>\n",
    " &nbsp;&nbsp;&nbsp;&nbsp; c) In-Class Exercise #1 - Create a Class 'Car' and instantiate three different makes of cars <br>\n",
    "3) <b>The \\__init\\__() Method</b> <br>\n",
    " &nbsp;&nbsp;&nbsp;&nbsp; a) The 'self' Attribute <br>\n",
    "4) <b>Class Attributes</b> <br>\n",
    " &nbsp;&nbsp;&nbsp;&nbsp; a) Initializing Attributes <br>\n",
    " &nbsp;&nbsp;&nbsp;&nbsp; b) Setting an Attribute Outside of the \\__init\\__() Method <br>\n",
    " &nbsp;&nbsp;&nbsp;&nbsp; c) Setting Defaults for Attributes <br>\n",
    " &nbsp;&nbsp;&nbsp;&nbsp; d) Accessing Class Attributes <br>\n",
    " &nbsp;&nbsp;&nbsp;&nbsp; e) Changing Class Attributes <br>\n",
    " &nbsp;&nbsp;&nbsp;&nbsp; f) In-Class Exercise #2 - Add a color and wheels attribute to your 'Car' class <br>\n",
    "5) <b>Class Methods</b> <br>\n",
    " &nbsp;&nbsp;&nbsp;&nbsp; a) Creating <br>\n",
    " &nbsp;&nbsp;&nbsp;&nbsp; b) Calling <br>\n",
    " &nbsp;&nbsp;&nbsp;&nbsp; c) Modifying an Attribute's Value Through a Method <br>\n",
    " &nbsp;&nbsp;&nbsp;&nbsp; d) Incrementing an Attribute's Value Through a Method <br>\n",
    " &nbsp;&nbsp;&nbsp;&nbsp; e) In-Class Exercise #3 - Add a method that prints the cars color and wheel number, then call them <br>\n",
    "6) <b>Inheritance</b> <br>\n",
    " &nbsp;&nbsp;&nbsp;&nbsp; a) Syntax for Inheriting from a Parent Class <br>\n",
    " &nbsp;&nbsp;&nbsp;&nbsp; b) The \\__init\\__() Method for a Child Class (super()) <br>\n",
    " &nbsp;&nbsp;&nbsp;&nbsp; c) Defining Attributes and Methods for the Child Class <br>\n",
    " &nbsp;&nbsp;&nbsp;&nbsp; d) Method Overriding <br>\n",
    " &nbsp;&nbsp;&nbsp;&nbsp; e) In-Class Exercise #4 - Create a class 'Ford' that inherits from 'Car' class and initialize it as a Blue Ford Explorer with 4 wheels using the super() method <br>\n",
    "7) <b>Classes as Attributes</b> <br>\n",
    "8) <b>Exercises</b> <br>\n",
    " &nbsp;&nbsp;&nbsp;&nbsp; a) Exercise #1 - Turn the shopping cart program from yesterday into an object-oriented program <br>"
   ]
  },
  {
   "cell_type": "markdown",
   "metadata": {},
   "source": [
    "## Creating a Class (Initializing/Declaring)\n",
    "<p>When creating a class, function, or even a variable you are initializing that object. Initializing and Declaring occur at the same time in Python, whereas in lower level languages you have to declare an object before initializing it. This is the first step in the process of using a class.</p>"
   ]
  },
  {
   "cell_type": "code",
   "execution_count": null,
   "metadata": {},
   "outputs": [],
   "source": [
    "#objects come from classes\n",
    "# for classes, the industry standard is to capitalize the first letter. Functions are lower case\n",
    "class Car():\n",
    "    wheels = 4\n",
    "    color = 'blue'"
   ]
  },
  {
   "cell_type": "markdown",
   "metadata": {},
   "source": [
    "## Using a Class (Instantiating)\n",
    "<p>The process of creating a class is called <i>Instantiating</i>. Each time you create a variable of that type of class, it is referred to as an <i>Instance</i> of that class. This is the second step in the process of using a class.</p>"
   ]
  },
  {
   "cell_type": "markdown",
   "metadata": {},
   "source": [
    "##### Creating One Instance"
   ]
  },
  {
   "cell_type": "code",
   "execution_count": null,
   "metadata": {},
   "outputs": [],
   "source": [
    "ford = Car()\n",
    "honda = Car()\n",
    "\n",
    "print(ford.wheels)\n",
    "print(ford.color)\n",
    "print(honda.wheels)\n",
    "\n",
    "ford.wheels = 6\n",
    "print(ford.wheels)\n",
    "print(honda.wheels)"
   ]
  },
  {
   "cell_type": "markdown",
   "metadata": {},
   "source": [
    "##### Creating Multiple Instances"
   ]
  },
  {
   "cell_type": "code",
   "execution_count": null,
   "metadata": {},
   "outputs": [],
   "source": []
  },
  {
   "cell_type": "markdown",
   "metadata": {},
   "source": [
    "##### In-Class Exercise #1 - Create a Class 'Car' and Instantiate three different makes of cars"
   ]
  },
  {
   "cell_type": "code",
   "execution_count": null,
   "metadata": {},
   "outputs": [],
   "source": []
  },
  {
   "cell_type": "markdown",
   "metadata": {},
   "source": [
    "## The \\__init\\__() Method <br>\n",
    "<p>This method is used in almost every created class, and called only once upon the creation of the class instance. This method will initialize all variables needed for the object.</p>"
   ]
  },
  {
   "cell_type": "code",
   "execution_count": null,
   "metadata": {},
   "outputs": [],
   "source": [
    "# if you define a function inside of a class, it will be treated as a method\n",
    "# dunder methods (_double under_)\n",
    "# every signle method always takes in a first parameter of (self)\n",
    "# the _init_ method is knows as the \"constructor\"\n",
    "# self is a reference to the person calling this method\n",
    "# if you don't use __init__, you won't be able to add anything into the class as in Car(asdf) after creating it\n",
    "\n",
    "class Car():\n",
    "    def __init__(self, wheels, c):\n",
    "        self.wheels = wheels\n",
    "        self.color = c # <- this is the name of the attribute\n",
    "\n",
    "#ford = Car() # now if we try to run this Class, it will not run without inputs\n",
    "\n",
    "ford = Car(6, \"Black\")\n",
    "honda = Car(4, \"Orange\")\n",
    "\n",
    "print(ford.wheels)\n",
    "print(honda.wheels)\n",
    "\n",
    "\n",
    "\n"
   ]
  },
  {
   "cell_type": "markdown",
   "metadata": {},
   "source": [
    "##### The 'self' Attribute <br>\n",
    "<p>This attribute is required to keep track of specific instance's attributes. Without the self attribute, the program would not know how to reference or keep track of an instance's attributes.</p>"
   ]
  },
  {
   "cell_type": "code",
   "execution_count": null,
   "metadata": {},
   "outputs": [],
   "source": [
    "# see above\n",
    "# The \"instance\" is the attribute that we end up creating"
   ]
  },
  {
   "cell_type": "markdown",
   "metadata": {},
   "source": [
    "## Class Attributes <br>\n",
    "<p>While variables are inside of a class, they are referred to as attributes and not variables. When someone says 'attribute' you know they're speaking about a class. Attributes can be initialized through the init method, or outside of it.</p>"
   ]
  },
  {
   "cell_type": "markdown",
   "metadata": {},
   "source": [
    "##### Initializing Attributes"
   ]
  },
  {
   "cell_type": "code",
   "execution_count": null,
   "metadata": {},
   "outputs": [],
   "source": [
    "# see above\n",
    "# best practice is to define any of your variables using the _init_ method\n",
    "# as stated under \"class attributes\" attributes are just Class variables, but they are referred to as attributes to further separate functions from Classes\n",
    "\n",
    "class Toy():\n",
    "    kind = \"Car\" # <- defines a variable, but it's not the best way. Use _init_\n",
    "    def __init__(self, rooftop, horn, wheels):\n",
    "        self.rooftop = rooftop\n",
    "        self.horn = horn\n",
    "        self.wheels = wheels\n",
    "\n",
    "tanka_truck = Toy(\"hardtop\", \"LOUD\", 8)\n",
    "hotwheels = Toy(\"convertible\", \"VERY LOUD\", 4)\n",
    "\n",
    "print(hotwheels.__dict__) # <- __dict__ takes a look at all of its attributes and converts them to easy to see dictionary\n"
   ]
  },
  {
   "cell_type": "markdown",
   "metadata": {},
   "source": [
    "##### Accessing Class Attributes"
   ]
  },
  {
   "cell_type": "code",
   "execution_count": null,
   "metadata": {
    "scrolled": true
   },
   "outputs": [],
   "source": [
    "# See Above"
   ]
  },
  {
   "cell_type": "markdown",
   "metadata": {},
   "source": [
    "##### Setting Defaults for Attributes"
   ]
  },
  {
   "cell_type": "code",
   "execution_count": null,
   "metadata": {},
   "outputs": [],
   "source": [
    "class Dog():\n",
    "    def __init__(self, name, c, tail='short'): # <- tail='short' sets a default argument\n",
    "        self.name = name\n",
    "        self.color = c\n",
    "        self.isCute = True # <- sets a default argument. \n",
    "        self.tail = tail\n",
    "\n",
    "buddy = Dog('Buddy', 'Brown', 'Non-Existent')\n",
    "garfield = Dog('garfield', \"orange\")\n",
    "\n",
    "print(buddy.tail)\n",
    "print(garfield.tail)\n",
    "print(buddy.__dict__)\n",
    "print(garfield.__dict__)"
   ]
  },
  {
   "cell_type": "markdown",
   "metadata": {},
   "source": [
    "##### Changing Class Attributes <br>\n",
    "<p>Keep in mind there are global class attributes and then there are attributes only available to each class instance which won't effect other classes.</p>"
   ]
  },
  {
   "cell_type": "code",
   "execution_count": null,
   "metadata": {},
   "outputs": [],
   "source": [
    "garfield.isCute = False\n",
    "print(garfield.__dict__)\n",
    "print(buddy.__dict__)"
   ]
  },
  {
   "cell_type": "code",
   "execution_count": null,
   "metadata": {},
   "outputs": [],
   "source": []
  },
  {
   "cell_type": "markdown",
   "metadata": {},
   "source": [
    "##### In-Class Exercise #2 - Add a doors and seats attribute to your 'Car' class then print out two different instances with different doors and seats"
   ]
  },
  {
   "cell_type": "code",
   "execution_count": null,
   "metadata": {},
   "outputs": [],
   "source": [
    "# an instance of a class is known as an object\n",
    "# everything should be an object and every method should be based off\n",
    "class Car2():\n",
    "    def __init__(self, doors, seats):\n",
    "        self.doors = doors\n",
    "        self.seats = seats\n",
    "\n",
    "chevy = Car2(2, 4)\n",
    "toyota = Car2(4, 5)\n",
    "\n",
    "print(chevy.doors)\n",
    "print(chevy.seats)\n",
    "print(toyota.doors)\n",
    "print(toyota.seats)\n"
   ]
  },
  {
   "cell_type": "markdown",
   "metadata": {},
   "source": [
    "## Class Methods <br>\n",
    "<p>While inside of a class, functions are referred to as 'methods'. If you hear someone mention methods, they're speaking about classes. Methods are essentially functions, but only callable on the instances of a class.</p>"
   ]
  },
  {
   "cell_type": "markdown",
   "metadata": {},
   "source": [
    "##### Creating"
   ]
  },
  {
   "cell_type": "code",
   "execution_count": null,
   "metadata": {},
   "outputs": [],
   "source": [
    "\n",
    "#Methods are functions inside of classes. They can do whatever you want them to do\n",
    "# one of the reasons for using object oriented programming is the scalability\n",
    "\n",
    "class Employee():\n",
    "    def __init__(self, f_name, l_name, salary):\n",
    "        self.first_name = f_name\n",
    "        self.last_name = l_name\n",
    "        self.salary = salary\n",
    "        self.email = f_name+\".\"+l_name+\"@codingtemple.com\".lower()\n",
    "        self.raise_amount = 1.05\n",
    "\n",
    "    #getter method just grabs things from the function above\n",
    "    def getFullName(self):\n",
    "        return f'{self.first_name} {self.last_name}'\n",
    "    \n",
    "    #setter method \n",
    "    def applyRaise(self):\n",
    "        self.salary = int(self.salary * self.raise_amount)\n",
    "        #don't need to return anything because you can still call self.salary outside\n",
    "\n",
    "    def changeLastName(self, l_name):\n",
    "        self.last_name = l_name\n",
    "        self.email = (self.first_name+\".\"+l_name+\"@codingtemple.com\".lower())\n",
    "\n",
    "emp1 = Employee(\"shoha\", \"tsuchida\", 50000)\n",
    "emp2 = Employee(\"dylan\", \"Smith\", 90000)\n",
    "\n",
    "print(emp1.getFullName())\n",
    "print(emp2.email)\n",
    "\n",
    "print(\"=====================\")\n",
    "\n",
    "print(emp1.salary)\n",
    "emp1.applyRaise()\n",
    "print(emp1.salary)\n",
    "\n",
    "print(\"=====================\")\n",
    "\n",
    "emp2.changeLastName('TheGoat')\n",
    "print(emp2.getFullName())\n",
    "print(emp2.email)"
   ]
  },
  {
   "cell_type": "code",
   "execution_count": null,
   "metadata": {},
   "outputs": [],
   "source": [
    "class Warrior():\n",
    "    def __init__(self,name,hp,str,lvl=1):\n",
    "        self.name = name\n",
    "        self.hp = hp\n",
    "        self.strength = str\n",
    "        self.level = lvl\n",
    "    \n",
    "    def levelUp(self):\n",
    "        self.level+=1\n",
    "        self.hp+=5\n",
    "        self.strength+=2\n",
    "\n",
    "myWarrior = Warrior('night_hawk', 20, 16)\n",
    "print(myWarrior.__dict__)\n",
    "myWarrior.levelUp()\n",
    "\n",
    "print(myWarrior.__dict__)"
   ]
  },
  {
   "cell_type": "markdown",
   "metadata": {},
   "source": [
    "##### Calling"
   ]
  },
  {
   "cell_type": "code",
   "execution_count": null,
   "metadata": {},
   "outputs": [],
   "source": [
    "# see above"
   ]
  },
  {
   "cell_type": "markdown",
   "metadata": {},
   "source": [
    "##### Modifying an Attribute's Value Through a Method"
   ]
  },
  {
   "cell_type": "code",
   "execution_count": null,
   "metadata": {},
   "outputs": [],
   "source": [
    "# see above"
   ]
  },
  {
   "cell_type": "markdown",
   "metadata": {},
   "source": [
    "##### Incrementing an Attribute's Value Through a Method"
   ]
  },
  {
   "cell_type": "code",
   "execution_count": null,
   "metadata": {},
   "outputs": [],
   "source": [
    "# see above"
   ]
  },
  {
   "cell_type": "markdown",
   "metadata": {},
   "source": [
    "##### In-Class Exercise #3 - Add a method that takes in three parameters of year, doors and seats and prints out a formatted print statement with make, model, year, seats, and doors"
   ]
  },
  {
   "cell_type": "code",
   "execution_count": null,
   "metadata": {},
   "outputs": [],
   "source": [
    "# Create class with 2 paramters inside of the __init__ which are make and model\n",
    "\n",
    "# Inside of the Car class create a method that has 4 parameter in total (self,year,door,seats,make,model)\n",
    "\n",
    "# Output: This car is from 2019 and is a Ford Expolorer and has 4 doors and 5 seats\n",
    "\n",
    "class CarType():\n",
    "    def __init__(self,year,doors,seats,make,model):\n",
    "        self.year = year\n",
    "        self.doors = doors\n",
    "        self.seats = seats\n",
    "        self.make = make\n",
    "        self.model = model\n",
    "\n",
    "    def getCarInfo(self):\n",
    "        print(f'This car is from {self.year}, is a {self.make} {self.model}, and has {self.doors} doors and {self.seats} seats.')\n",
    "\n",
    "my_car = CarType(1989, 2, 5,\"Toyota\",\"Tacoma\")\n",
    "\n",
    "print(my_car.getCarInfo())\n"
   ]
  },
  {
   "cell_type": "markdown",
   "metadata": {},
   "source": [
    "## Inheritance <br>\n",
    "<p>You can create a child-parent relationship between two classes by using inheritance. What this allows you to do is have overriding methods, but also inherit traits from the parent class. Think of it as an actual parent and child, the child will inherit the parent's genes, as will the classes in OOP</p>"
   ]
  },
  {
   "cell_type": "markdown",
   "metadata": {},
   "source": [
    "##### Syntax for Inheriting from a Parent Class"
   ]
  },
  {
   "cell_type": "code",
   "execution_count": null,
   "metadata": {},
   "outputs": [],
   "source": [
    "# Creation of parent class\n",
    "class Animal():\n",
    "    def __init__(self, name, species, legs=4):\n",
    "        self.name = name\n",
    "        self.species = species\n",
    "        self.legs = legs\n",
    "\n",
    "    def talk(self):\n",
    "        print(\"some generic sound...\")\n",
    "\n",
    "    def breathe(self):\n",
    "        print(\"...\")\n",
    "\n",
    "# Creation of child classes\n",
    "class Dog(Animal):\n",
    "    # constructor method to override inherrited class\n",
    "    # if you don't override, it will try to use the parent method\n",
    "    def __init__(self,name, species,legs=4,bark=True):\n",
    "        # Super runs all of the parents inits as well\n",
    "        Animal.__init__(self,name,species,legs)\n",
    "        self.bark=bark\n",
    "        pass\n",
    "\n",
    "    def talk(self):\n",
    "        print(\"WOOF\")\n",
    "\n",
    "\n",
    "class Cat(Animal):\n",
    "    def __init__(self, name, species, legs=4, meow=True):\n",
    "        super().__init__(name,species,legs)\n",
    "        self.meow = meow\n",
    "\n",
    "    def talk(self):\n",
    "        print(\"meow\")\n",
    "\n",
    "\n",
    "a1 = Animal(\"Shoha\", \"human\", 2)\n",
    "a1.name\n",
    "d1=Dog(\"buddy\", \"canine\")\n",
    "d1.name\n",
    "print(type(d1))\n",
    "d1.__dict__\n",
    "c1 = Cat(\"garfield\",\"Feline\")\n",
    "d1.talk()\n",
    "c1.talk()\n",
    "a1.talk()\n",
    "d1.breathe()\n",
    "c1.breathe()"
   ]
  },
  {
   "cell_type": "markdown",
   "metadata": {},
   "source": [
    "##### The \\__init\\__() Method for a Child Class - super()"
   ]
  },
  {
   "cell_type": "code",
   "execution_count": null,
   "metadata": {
    "scrolled": true
   },
   "outputs": [],
   "source": [
    "# see above"
   ]
  },
  {
   "cell_type": "markdown",
   "metadata": {},
   "source": [
    "##### Defining Attributes and Methods for the Child Class"
   ]
  },
  {
   "cell_type": "code",
   "execution_count": null,
   "metadata": {},
   "outputs": [],
   "source": [
    "# See Above"
   ]
  },
  {
   "cell_type": "markdown",
   "metadata": {},
   "source": [
    "##### Method Overriding"
   ]
  },
  {
   "cell_type": "code",
   "execution_count": null,
   "metadata": {},
   "outputs": [],
   "source": [
    "# See Above"
   ]
  },
  {
   "cell_type": "markdown",
   "metadata": {},
   "source": [
    "## Classes as Attributes <br>\n",
    "<p>Classes can also be used as attributes within another class. This is useful in situations where you need to keep variables locally stored, instead of globally stored.</p>"
   ]
  },
  {
   "cell_type": "code",
   "execution_count": null,
   "metadata": {},
   "outputs": [],
   "source": [
    "class Battery():\n",
    "    def __init__(self, cells):\n",
    "        self.cells = cells\n",
    "        self.volts = 7.8\n",
    "\n",
    "    def addCells(self, num):\n",
    "        self.cells += num\n",
    "\n",
    "class Car():\n",
    "    def __init__(self,make,battery):\n",
    "        self.make = make\n",
    "        self.battery = battery\n",
    "\n",
    "b1 = Battery(20) # 20 is being entered into \"cells\" for the Battery Class __init__ method\n",
    "\n",
    "tesla = Car(\"tesla\",b1) # \"tesla\" and the previously defined \"b1\" are being entered into make and battery for the Car Class \n",
    "\n",
    "print(tesla.battery.volts) # because battery was \"b1\" and Battery has a self defined volts of 7.8, tesla inherited this attribute\n",
    "\n",
    "tesla.battery.addCells(5) # tesla.battery is being changed using the addCells() method\n",
    "print(tesla.battery.cells) # cells was already inherited from b1, so we added 5 to 20"
   ]
  },
  {
   "cell_type": "markdown",
   "metadata": {},
   "source": [
    "# Exercises"
   ]
  },
  {
   "cell_type": "markdown",
   "metadata": {},
   "source": [
    "### Exercise 1 - Turn the shopping cart program from yesterday into an object-oriented program\n",
    "\n",
    "The comments in the cell below are there as a guide for thinking about the problem. However, if you feel a different way is best for you and your own thought process, please do what feels best for you by all means."
   ]
  },
  {
   "cell_type": "code",
   "execution_count": null,
   "metadata": {},
   "outputs": [],
   "source": [
    "# Create a class called cart that retains items and has methods to add, remove, and show\n",
    "# just need to add class at the top, self into the functions\n",
    "# turn functions into methods\n",
    "# turn dictionary into attribute\n",
    "# Ask the user four bits of input: Do you want to : Show/Add/Delete or Quit?\n",
    "\n",
    "class Cart():\n",
    "    def __init__(self):\n",
    "        self.my_cart = {} # dictionary is now an attribute\n",
    "\n",
    "    def addToCart(self):\n",
    "        item = input(\"What grocery item do you want to add?\")\n",
    "        quantity = input(\"How many do you need? (Please input a number): \")\n",
    "        self.my_cart[item] = quantity\n",
    "\n",
    "    def showCart(self):\n",
    "        print(self.my_cart)\n",
    "    \n",
    "    def removeFromCart(self):\n",
    "        item = input(\"Which item do you want to change the quantity for in your cart? \")\n",
    "        if item not in self.my_cart:\n",
    "            print(\"You don't have that item in your cart.\")\n",
    "        else:\n",
    "            quantity_remove = input(\"How many would you like to remove? Enter 'all' or the number you would like to remove. \")\n",
    "            try: # if a string is entered for quantity_remove that is not \"all\", this will still allow it to run through without throwing an error from int(string)\n",
    "                if int(quantity_remove) > int(self.my_cart[item]):\n",
    "                    print(f\"You only have {self.my_cart[item]} {item} in your cart. Please enter a quantity less than or equal to the total.\")\n",
    "                elif quantity_remove == self.my_cart[item] or quantity_remove.lower() == 'all':\n",
    "                    del self.my_cart[item]\n",
    "                    print(f\"You have successfully removed all {item} from your cart.\")\n",
    "                else: \n",
    "                    self.my_cart[item] = (int(self.my_cart[item]) - int(quantity_remove))\n",
    "                    print(f\"Successfully removed {quantity_remove} {item} from your cart. You now only have {self.my_cart[item]} {item} in your cart.\")\n",
    "            except: print(\"Invalid response. Please try again.\")\n",
    "            \n",
    "    def run(self):\n",
    "        while True:\n",
    "            answer = input(\"What do you want to do? (show/add/delete/quit): \")\n",
    "            if answer.lower() == \"quit\":\n",
    "                self.showCart()\n",
    "                print('Have a nice day!')\n",
    "                break\n",
    "            elif answer.lower() == \"add\":\n",
    "                self.addToCart()\n",
    "            elif answer.lower() == \"show\":\n",
    "                self.showCart()\n",
    "            elif answer.lower() == \"delete\":\n",
    "                self.removeFromCart()\n",
    "            else:\n",
    "                print(\"Invalid response. Please choose from (show/add/delete/quit).\")\n",
    "\n",
    "shopping_cart = Cart()\n",
    "shopping_cart.run()"
   ]
  },
  {
   "cell_type": "markdown",
   "metadata": {},
   "source": [
    "### Exercise 2 - Write a Python class which has two methods get_String and print_String. get_String accept a string from the user and print_String print the string in upper case"
   ]
  },
  {
   "cell_type": "code",
   "execution_count": null,
   "metadata": {},
   "outputs": [],
   "source": [
    "class Strings():\n",
    "    def __init__(self):\n",
    "        pass\n",
    "\n",
    "    def get_String(self):\n",
    "        self.string_input = input(\"Please enter a word or sentence you would like returned in all CAPS.\")\n",
    "\n",
    "    def print_String(self):\n",
    "        to_upper = self.string_input\n",
    "        upper_string = to_upper.upper()\n",
    "        print(upper_string)\n",
    "\n",
    "upper_string = Strings()\n",
    "upper_string.get_String()\n",
    "upper_string.print_String()\n",
    "\n",
    "    "
   ]
  },
  {
   "cell_type": "code",
   "execution_count": null,
   "metadata": {},
   "outputs": [],
   "source": []
  }
 ],
 "metadata": {
  "kernelspec": {
   "display_name": "Python 3",
   "language": "python",
   "name": "python3"
  },
  "language_info": {
   "codemirror_mode": {
    "name": "ipython",
    "version": 3
   },
   "file_extension": ".py",
   "mimetype": "text/x-python",
   "name": "python",
   "nbconvert_exporter": "python",
   "pygments_lexer": "ipython3",
   "version": "3.9.10"
  }
 },
 "nbformat": 4,
 "nbformat_minor": 2
}
